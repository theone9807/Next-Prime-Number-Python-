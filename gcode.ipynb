{
 "cells": [
  {
   "cell_type": "code",
   "execution_count": 4,
   "metadata": {},
   "outputs": [
    {
     "name": "stdout",
     "output_type": "stream",
     "text": [
      "Would you like to know the next prime number? (Y/N): y\n",
      "2\n",
      "Would you like to know the next prime number? (Y/N): y\n",
      "3\n",
      "Would you like to know the next prime number? (Y/N): y\n",
      "5\n",
      "Would you like to know the next prime number? (Y/N): y\n",
      "7\n",
      "Would you like to know the next prime number? (Y/N): y\n",
      "11\n",
      "Would you like to know the next prime number? (Y/N): n\n"
     ]
    }
   ],
   "source": [
    "#Q. Next Prime Number - Have the program find prime numbers until the user chooses to stop asking for the next one.\n",
    "def is_prime(x):\n",
    "    \n",
    "\n",
    "    if x == 2:\n",
    "        return True\n",
    "\n",
    "    if x % 2 == 0:\n",
    "        return False\n",
    "\n",
    "    for i in range(3, int(x**0.5)+1, 2):\n",
    "        if x % i == 0:\n",
    "            return False\n",
    "\n",
    "    return True\n",
    "\n",
    "\n",
    "def generate_primes(current_prime):\n",
    "    \"\"\"\n",
    "    Returns the next prime number\n",
    "    \n",
    "    \"\"\"\n",
    "\n",
    "    new_prime = current_prime + 1\n",
    "\n",
    "    while True:\n",
    "\n",
    "        if not is_prime(new_prime):\n",
    "            new_prime += 1\n",
    "        else:\n",
    "            break\n",
    "\n",
    "    return new_prime\n",
    "\n",
    "\n",
    "def main():  # Wrapper function\n",
    "\n",
    "    current_prime = 2\n",
    "\n",
    "    while True:\n",
    "\n",
    "        ask = input('Would you like to know the next prime number? (Y/N): ')\n",
    "\n",
    "        if ask.lower().startswith('y'):\n",
    "            print(current_prime)\n",
    "            current_prime = generate_primes(current_prime)\n",
    "\n",
    "        else:\n",
    "            break\n",
    "\n",
    "if __name__ == '__main__':\n",
    "    main()"
   ]
  },
  {
   "cell_type": "code",
   "execution_count": null,
   "metadata": {},
   "outputs": [],
   "source": []
  }
 ],
 "metadata": {
  "kernelspec": {
   "display_name": "Python 3",
   "language": "python",
   "name": "python3"
  },
  "language_info": {
   "codemirror_mode": {
    "name": "ipython",
    "version": 3
   },
   "file_extension": ".py",
   "mimetype": "text/x-python",
   "name": "python",
   "nbconvert_exporter": "python",
   "pygments_lexer": "ipython3",
   "version": "3.6.6"
  }
 },
 "nbformat": 4,
 "nbformat_minor": 2
}
